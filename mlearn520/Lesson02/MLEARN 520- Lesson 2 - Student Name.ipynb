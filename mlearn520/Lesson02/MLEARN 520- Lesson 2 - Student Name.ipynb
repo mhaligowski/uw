{
 "cells": [
  {
   "cell_type": "markdown",
   "metadata": {},
   "source": [
    "# Lesson 2 - Assignment\n",
    "\n",
    "In this assignment, you will implement a Decision Tree algorithm from scratch and compare the results to existing sklearn algorithm. "
   ]
  },
  {
   "cell_type": "code",
   "execution_count": null,
   "metadata": {},
   "outputs": [],
   "source": [
    "# import packages\n",
    "%matplotlib inline\n",
    "import numpy as np\n",
    "import matplotlib.pyplot as plt\n",
    "import seaborn as sns\n",
    "import pandas as pd\n",
    "from matplotlib.legend_handler import HandlerLine2D\n",
    "from sklearn.metrics import accuracy_score\n",
    "from sklearn.metrics import confusion_matrix\n",
    "from sklearn.metrics import mean_squared_error\n",
    "from sklearn.metrics import mean_absolute_error\n",
    "from sklearn.tree import DecisionTreeClassifier\n",
    "from sklearn.tree import DecisionTreeRegressor\n",
    "from sklearn.model_selection import GridSearchCV\n",
    "\n",
    "# make this notebook's output stable across runs\n",
    "np.random.seed(0)"
   ]
  },
  {
   "cell_type": "markdown",
   "metadata": {},
   "source": [
    "Question 1.1: Implement the functions to calculate Gini Index."
   ]
  },
  {
   "cell_type": "code",
   "execution_count": null,
   "metadata": {},
   "outputs": [],
   "source": [
    "# Calculate the Gini index for a split dataset\n",
    "def gini_index(groups, classes):\n",
    "    # TODO count all samples at split point\n",
    "\n",
    "    # TODO sum weighted Gini index for each group\n",
    "    gini = \n",
    "    for group in groups:\n",
    "        size = #to do\n",
    "        # TODO avoid divide by zero\n",
    "        \n",
    "            continue\n",
    "        score = \n",
    "        \n",
    "        # TODO score the group based on the score for each class\n",
    "        for class_val in classes:\n",
    "            p = #to do calculate p\n",
    "            \n",
    "        # TODO weight the group score by its relative size\n",
    "        gini += #to do\n",
    "    return gini"
   ]
  },
  {
   "cell_type": "markdown",
   "metadata": {},
   "source": [
    "Question 2.1: Write a method that splits the "
   ]
  },
  {
   "cell_type": "code",
   "execution_count": null,
   "metadata": {},
   "outputs": [],
   "source": [
    "# Split a dataset based on an attribute and an attribute value\n",
    "def test_split(index, value, dataset):\n",
    "    left, right = list(), list()\n",
    "    \"\"\"\n",
    "    TODO: This function loops over each row and checks if the row belongs to the right or left list.\n",
    "    \"\"\" \n",
    "    for row in dataset:\n",
    "        #to do\n",
    "            \n",
    "        else:\n",
    "            #TODO\n",
    "    return left, right"
   ]
  },
  {
   "cell_type": "markdown",
   "metadata": {},
   "source": [
    "Question 2.2: Write a method that loops over the dataset, determine the groups of rows that belong to the right or left split, and calculates the gini_index"
   ]
  },
  {
   "cell_type": "code",
   "execution_count": null,
   "metadata": {},
   "outputs": [],
   "source": [
    "def get_split(dataset):\n",
    "    \"TODO Select the best split point for a dataset\"\n",
    "    class_values = #TODO\n",
    "    b_index, b_value, b_score, b_groups = 999, 999, 999, None\n",
    "    for index in range(len(dataset[0])-1):\n",
    "        for row in dataset:\n",
    "            groups = #TODO\n",
    "            gini = #TOdO\n",
    "            if gini < b_score:\n",
    "                #TODO\n",
    "    return {'index':b_index, 'value':b_value, 'groups':b_groups}"
   ]
  },
  {
   "cell_type": "markdown",
   "metadata": {},
   "source": [
    "Question 2.3: Repeat question 2.2 using entropy"
   ]
  },
  {
   "cell_type": "code",
   "execution_count": null,
   "metadata": {},
   "outputs": [],
   "source": [
    "def get_split_entropy(dataset):\n",
    "    \"TODO Select the best split point for a dataset\"\n",
    "    class_values = #TODO\n",
    "    b_index, b_value, b_score, b_groups = 999, 999, 999, None\n",
    "    for index in range(len(dataset[0])-1):\n",
    "        for row in dataset:\n",
    "            groups = #TOdO\n",
    "            entropy = #TODO\n",
    "            if entropy < b_score:\n",
    "                b_index, b_value, b_score, b_groups = index, row[index], gini, groups\n",
    "    return {'index':b_index, 'value':b_value, 'groups':b_groups}"
   ]
  },
  {
   "cell_type": "markdown",
   "metadata": {},
   "source": [
    "Question 3.1: Write a method that takes in a group of rows and determines the class they belongs to. It should return the most common output value for a list of rows."
   ]
  },
  {
   "cell_type": "code",
   "execution_count": null,
   "metadata": {},
   "outputs": [],
   "source": [
    "def to_terminal(group):\n",
    "    \"TODO determing the most commong output within each group\"\n",
    "    outcomes = #TODO\n",
    "    return #TODO"
   ]
  },
  {
   "cell_type": "markdown",
   "metadata": {},
   "source": [
    "Question 3.2: Write a method that recursively split the data.\n",
    "The method takes in a node, max_depth, min_size, and depth. Initially, the method would be called by passing the rood node and depth of 1. Here are the steps to help you implement:\n",
    "\n",
    "- First, we create two groups for the data split and delete any existing groups from the node. As rows are used, they are no longer needed.\n",
    "- Second, check if rows should be in left or right group, and if so we create a terminal node using the records we have.\n",
    "- Third, check if maximum depth is reached and if so we create a terminal node.\n",
    "- Fourth, process left child, creating a terminal node if the group of rows is too small, otherwise creating and adding the left node in a depth first fashion until the bottom of the tree is reached on this branch.\n",
    "- Fifth, process the right side in a similar manner as left side, as we rise back up the constructed tree to the root."
   ]
  },
  {
   "cell_type": "code",
   "execution_count": null,
   "metadata": {},
   "outputs": [],
   "source": [
    "# Create child splits for a node or make terminal\n",
    "def split(node, max_depth, min_size, depth):\n",
    "    left, right = #TODO\n",
    "    del(node['groups'])\n",
    "    # TODO check for a no split\n",
    "    if not left or not right:\n",
    "        #TODO\n",
    "        return\n",
    "    # TODO check for max depth\n",
    "    if depth >= max_depth:\n",
    "        #TODO\n",
    "        return\n",
    "    # TODO process left child\n",
    "    if len(left) <= min_size:\n",
    "        #TODO\n",
    "    else:\n",
    "        node['left'] = get_split(left)\n",
    "        #TODO\n",
    "    # TODO process right child\n",
    "    if len(right) <= min_size:\n",
    "        #TODO\n",
    "    else:\n",
    "        #TODO"
   ]
  },
  {
   "cell_type": "markdown",
   "metadata": {},
   "source": [
    "Question 3.3: Write a method that builds the tree. The method creates an initial split to determine root node, and then calls the split method."
   ]
  },
  {
   "cell_type": "code",
   "execution_count": null,
   "metadata": {},
   "outputs": [],
   "source": [
    "# Build a decision tree\n",
    "def build_tree(train, max_depth, min_size):\n",
    "    \"TODO get the first split, and then split starting fromt the root\"\n",
    "    root = #TODO\n",
    "    #TODO\n",
    "    return root"
   ]
  },
  {
   "cell_type": "markdown",
   "metadata": {},
   "source": [
    "Question 3.4: Write a method that takes in a node and rows of data, and predicts the class associated with each row."
   ]
  },
  {
   "cell_type": "code",
   "execution_count": null,
   "metadata": {},
   "outputs": [],
   "source": [
    "# Make a prediction with a decision tree\n",
    "def predict(node, row):\n",
    "    #TODO check if a row belongs to a node and recursively traverse the tree if the row doesn't.\n",
    "    if row[node['index']] < node['value']:\n",
    "        if #TODO\n",
    "            return #TODO\n",
    "        else:\n",
    "            return node['left']\n",
    "    else:\n",
    "        if isinstance(node['right'], dict):\n",
    "            return #TODO\n",
    "        else:\n",
    "            return node['right']"
   ]
  },
  {
   "cell_type": "markdown",
   "metadata": {},
   "source": [
    "Question 4: Train a decision tree using the banknote_authentication data"
   ]
  },
  {
   "cell_type": "code",
   "execution_count": null,
   "metadata": {},
   "outputs": [],
   "source": [
    "from random import seed\n",
    "from random import randrange\n",
    "from csv import reader\n",
    "from sklearn.metrics import accuracy_score\n",
    "\n",
    "# Load a CSV file\n",
    "def load_csv(filename):\n",
    "    file = #TODO\n",
    "    lines =#TODO\n",
    "    dataset = #TODO\n",
    "    return dataset\n",
    " \n",
    "# Convert string column to float\n",
    "def str_column_to_float(dataset, column):\n",
    "    for row in dataset:\n",
    "        #TODO\n",
    "        \n",
    "filename = 'data_banknote_authentication.csv'\n",
    "dataset = load_csv(filename)\n",
    "# convert string attributes to integers\n",
    "#TODO\n",
    "\n",
    "    \n",
    "train = dataset[1:np.int(len(dataset)*2/3)]\n",
    "test = dataset[np.int(len(dataset)*2/3)+1:len(dataset)]"
   ]
  },
  {
   "cell_type": "code",
   "execution_count": null,
   "metadata": {},
   "outputs": [],
   "source": [
    "#TODO Build a tree and evalute accuracy\n",
    "tree = #TODO\n",
    "predictions = list()\n",
    "for row in test:\n",
    "    prediction = #TODO\n",
    "    predictions.append(prediction)\n",
    "               \n",
    "print('Accuracy: %s' % accuracy_score([row[-1] for row in test], predictions))"
   ]
  },
  {
   "cell_type": "markdown",
   "metadata": {},
   "source": [
    "[Bonus] Question 5: Train and evaluate an SKLEARN decision tree model, and compare the results to your model "
   ]
  },
  {
   "cell_type": "code",
   "execution_count": null,
   "metadata": {},
   "outputs": [],
   "source": []
  },
  {
   "cell_type": "markdown",
   "metadata": {},
   "source": [
    "Question 6: Create a new text cell in your Notebook: Complete a 50-100 word summary (or short description of your thinking in applying this week's learning to the solution) of your experience in this assignment. Include: What was your incoming experience with this model, if any? what steps you took, what obstacles you encountered. how you link this exercise to real-world, machine learning problem-solving. (What steps were missing? What else do you need to learn?) This summary allows your instructor to know how you are doing and allot points for your effort in thinking and planning, and making connections to real-world work."
   ]
  },
  {
   "cell_type": "code",
   "execution_count": null,
   "metadata": {},
   "outputs": [],
   "source": []
  }
 ],
 "metadata": {
  "kernelspec": {
   "display_name": "Python 3",
   "language": "python",
   "name": "python3"
  },
  "language_info": {
   "codemirror_mode": {
    "name": "ipython",
    "version": 3
   },
   "file_extension": ".py",
   "mimetype": "text/x-python",
   "name": "python",
   "nbconvert_exporter": "python",
   "pygments_lexer": "ipython3",
   "version": "3.7.3"
  }
 },
 "nbformat": 4,
 "nbformat_minor": 2
}
