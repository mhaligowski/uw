{
 "cells": [
  {
   "cell_type": "markdown",
   "metadata": {},
   "source": [
    "<h1>Lesson 3. Classification: Credit worthiness from German bank</h1>"
   ]
  },
  {
   "cell_type": "markdown",
   "metadata": {},
   "source": [
    "<img src=\"https://upload.wikimedia.org/wikipedia/commons/8/8e/Flag_map_of_Germany.svg\" style=\"height:200px;\">\n",
    "  \n",
    "  <p>In this exercise you will predict credit worthiness of custmers of a German bank (<a href=\"https://archive.ics.uci.edu/ml/datasets/statlog+(german+credit+data)\">provided by Hans Hofmann from Univeristy of Hamburg</a>). The data we will be working with here is a reduced version of the full dataset.</p>\n",
    "<p>The following features are available for the 1000-row dataset:</p>\n",
    "<ul>\n",
    "<li>Class: Credit worthiness (what you are trying to predict)</li>\n",
    "<li>Duration: Duration of the credit (in months) </li>\n",
    "<li>Amount: Amount of money asked for (in Deutche Marks (DM))</li>\n",
    "<li>InstallmentRatePercentage: Installment rate in percentage of disposable income </li>\n",
    "<li>ResidenceDuration: Number of years at current residence</li>\n",
    "<li>Age: Person's age</li>\n",
    "<li>NumberExistingCredits: Number of credit accounts</li>\n",
    "<li>NumberPeopleMaintenance: Number of people being liable to provide maintenance for the credit</li>\n",
    "<li>Telephone: Is there a phone number associated with the customer name?  </li>\n",
    "<li>ForeignWorker: Is the person a foreign worker?</li>\n",
    "<li>CheckingAccountStatus: Amount of money in the checking account (in DM)<ul>\n",
    "<li>CheckingAccountStatus.lt.0</li>\n",
    "<li>CheckingAccountStatus.0.to.200</li>\n",
    "<li>CheckingAccountStatus.gt.200</li>\n",
    "</ul></li>\n",
    "<li>CreditHistory: Past credit history<ul>\n",
    "<li>CreditHistory.ThisBank.AllPaid</li>\n",
    "<li>CreditHistory.PaidDuly</li>\n",
    "<li>CreditHistory.Delay</li>\n",
    "<li>CreditHistory.Critical</li>\n",
    "</ul></li>\n",
    "</ul>\n",
    "\n",
    "<p>This dataset is available in <a href=\"http://caret.r-forge.r-project.org/\">'caret'</a> library. Let's load it and see how it looks:</p>"
   ]
  },
  {
   "cell_type": "code",
   "execution_count": 1,
   "metadata": {},
   "outputs": [
    {
     "name": "stderr",
     "output_type": "stream",
     "text": [
      "/var/folders/mp/s3t18scd1pvck503vkmczpjw0000gn/T/ipykernel_20458/2558017407.py:1: DeprecationWarning: \n",
      "Pyarrow will become a required dependency of pandas in the next major release of pandas (pandas 3.0),\n",
      "(to allow more performant data types, such as the Arrow string type, and better interoperability with other libraries)\n",
      "but was not found to be installed on your system.\n",
      "If this would cause problems for you,\n",
      "please provide us feedback at https://github.com/pandas-dev/pandas/issues/54466\n",
      "        \n",
      "  import pandas as pd\n"
     ]
    },
    {
     "data": {
      "text/html": [
       "<div>\n",
       "<style scoped>\n",
       "    .dataframe tbody tr th:only-of-type {\n",
       "        vertical-align: middle;\n",
       "    }\n",
       "\n",
       "    .dataframe tbody tr th {\n",
       "        vertical-align: top;\n",
       "    }\n",
       "\n",
       "    .dataframe thead th {\n",
       "        text-align: right;\n",
       "    }\n",
       "</style>\n",
       "<table border=\"1\" class=\"dataframe\">\n",
       "  <thead>\n",
       "    <tr style=\"text-align: right;\">\n",
       "      <th></th>\n",
       "      <th>Class</th>\n",
       "      <th>Duration</th>\n",
       "      <th>Amount</th>\n",
       "      <th>InstallmentRatePercentage</th>\n",
       "      <th>ResidenceDuration</th>\n",
       "      <th>Age</th>\n",
       "      <th>NumberExistingCredits</th>\n",
       "      <th>NumberPeopleMaintenance</th>\n",
       "      <th>Telephone</th>\n",
       "      <th>ForeignWorker</th>\n",
       "      <th>CheckingAccountStatus.lt.0</th>\n",
       "      <th>CheckingAccountStatus.0.to.200</th>\n",
       "      <th>CheckingAccountStatus.gt.200</th>\n",
       "      <th>CreditHistory.ThisBank.AllPaid</th>\n",
       "      <th>CreditHistory.PaidDuly</th>\n",
       "      <th>CreditHistory.Delay</th>\n",
       "      <th>CreditHistory.Critical</th>\n",
       "    </tr>\n",
       "  </thead>\n",
       "  <tbody>\n",
       "    <tr>\n",
       "      <th>0</th>\n",
       "      <td>Good</td>\n",
       "      <td>6</td>\n",
       "      <td>1169</td>\n",
       "      <td>4</td>\n",
       "      <td>4</td>\n",
       "      <td>67</td>\n",
       "      <td>2</td>\n",
       "      <td>1</td>\n",
       "      <td>0</td>\n",
       "      <td>1</td>\n",
       "      <td>1</td>\n",
       "      <td>0</td>\n",
       "      <td>0</td>\n",
       "      <td>0</td>\n",
       "      <td>0</td>\n",
       "      <td>0</td>\n",
       "      <td>1</td>\n",
       "    </tr>\n",
       "    <tr>\n",
       "      <th>1</th>\n",
       "      <td>Bad</td>\n",
       "      <td>48</td>\n",
       "      <td>5951</td>\n",
       "      <td>2</td>\n",
       "      <td>2</td>\n",
       "      <td>22</td>\n",
       "      <td>1</td>\n",
       "      <td>1</td>\n",
       "      <td>1</td>\n",
       "      <td>1</td>\n",
       "      <td>0</td>\n",
       "      <td>1</td>\n",
       "      <td>0</td>\n",
       "      <td>0</td>\n",
       "      <td>1</td>\n",
       "      <td>0</td>\n",
       "      <td>0</td>\n",
       "    </tr>\n",
       "    <tr>\n",
       "      <th>2</th>\n",
       "      <td>Good</td>\n",
       "      <td>12</td>\n",
       "      <td>2096</td>\n",
       "      <td>2</td>\n",
       "      <td>3</td>\n",
       "      <td>49</td>\n",
       "      <td>1</td>\n",
       "      <td>2</td>\n",
       "      <td>1</td>\n",
       "      <td>1</td>\n",
       "      <td>0</td>\n",
       "      <td>0</td>\n",
       "      <td>0</td>\n",
       "      <td>0</td>\n",
       "      <td>0</td>\n",
       "      <td>0</td>\n",
       "      <td>1</td>\n",
       "    </tr>\n",
       "    <tr>\n",
       "      <th>3</th>\n",
       "      <td>Good</td>\n",
       "      <td>36</td>\n",
       "      <td>9055</td>\n",
       "      <td>2</td>\n",
       "      <td>4</td>\n",
       "      <td>35</td>\n",
       "      <td>1</td>\n",
       "      <td>2</td>\n",
       "      <td>0</td>\n",
       "      <td>1</td>\n",
       "      <td>0</td>\n",
       "      <td>0</td>\n",
       "      <td>0</td>\n",
       "      <td>0</td>\n",
       "      <td>1</td>\n",
       "      <td>0</td>\n",
       "      <td>0</td>\n",
       "    </tr>\n",
       "    <tr>\n",
       "      <th>4</th>\n",
       "      <td>Good</td>\n",
       "      <td>24</td>\n",
       "      <td>2835</td>\n",
       "      <td>3</td>\n",
       "      <td>4</td>\n",
       "      <td>53</td>\n",
       "      <td>1</td>\n",
       "      <td>1</td>\n",
       "      <td>1</td>\n",
       "      <td>1</td>\n",
       "      <td>0</td>\n",
       "      <td>0</td>\n",
       "      <td>0</td>\n",
       "      <td>0</td>\n",
       "      <td>1</td>\n",
       "      <td>0</td>\n",
       "      <td>0</td>\n",
       "    </tr>\n",
       "    <tr>\n",
       "      <th>5</th>\n",
       "      <td>Good</td>\n",
       "      <td>12</td>\n",
       "      <td>3059</td>\n",
       "      <td>2</td>\n",
       "      <td>4</td>\n",
       "      <td>61</td>\n",
       "      <td>1</td>\n",
       "      <td>1</td>\n",
       "      <td>1</td>\n",
       "      <td>1</td>\n",
       "      <td>0</td>\n",
       "      <td>0</td>\n",
       "      <td>0</td>\n",
       "      <td>0</td>\n",
       "      <td>1</td>\n",
       "      <td>0</td>\n",
       "      <td>0</td>\n",
       "    </tr>\n",
       "    <tr>\n",
       "      <th>6</th>\n",
       "      <td>Bad</td>\n",
       "      <td>30</td>\n",
       "      <td>5234</td>\n",
       "      <td>4</td>\n",
       "      <td>2</td>\n",
       "      <td>28</td>\n",
       "      <td>2</td>\n",
       "      <td>1</td>\n",
       "      <td>1</td>\n",
       "      <td>1</td>\n",
       "      <td>0</td>\n",
       "      <td>1</td>\n",
       "      <td>0</td>\n",
       "      <td>0</td>\n",
       "      <td>0</td>\n",
       "      <td>0</td>\n",
       "      <td>1</td>\n",
       "    </tr>\n",
       "    <tr>\n",
       "      <th>7</th>\n",
       "      <td>Bad</td>\n",
       "      <td>48</td>\n",
       "      <td>4308</td>\n",
       "      <td>3</td>\n",
       "      <td>4</td>\n",
       "      <td>24</td>\n",
       "      <td>1</td>\n",
       "      <td>1</td>\n",
       "      <td>1</td>\n",
       "      <td>1</td>\n",
       "      <td>1</td>\n",
       "      <td>0</td>\n",
       "      <td>0</td>\n",
       "      <td>0</td>\n",
       "      <td>1</td>\n",
       "      <td>0</td>\n",
       "      <td>0</td>\n",
       "    </tr>\n",
       "    <tr>\n",
       "      <th>8</th>\n",
       "      <td>Good</td>\n",
       "      <td>12</td>\n",
       "      <td>1567</td>\n",
       "      <td>1</td>\n",
       "      <td>1</td>\n",
       "      <td>22</td>\n",
       "      <td>1</td>\n",
       "      <td>1</td>\n",
       "      <td>0</td>\n",
       "      <td>1</td>\n",
       "      <td>0</td>\n",
       "      <td>1</td>\n",
       "      <td>0</td>\n",
       "      <td>0</td>\n",
       "      <td>1</td>\n",
       "      <td>0</td>\n",
       "      <td>0</td>\n",
       "    </tr>\n",
       "    <tr>\n",
       "      <th>9</th>\n",
       "      <td>Bad</td>\n",
       "      <td>24</td>\n",
       "      <td>1199</td>\n",
       "      <td>4</td>\n",
       "      <td>4</td>\n",
       "      <td>60</td>\n",
       "      <td>2</td>\n",
       "      <td>1</td>\n",
       "      <td>1</td>\n",
       "      <td>1</td>\n",
       "      <td>1</td>\n",
       "      <td>0</td>\n",
       "      <td>0</td>\n",
       "      <td>0</td>\n",
       "      <td>0</td>\n",
       "      <td>0</td>\n",
       "      <td>1</td>\n",
       "    </tr>\n",
       "  </tbody>\n",
       "</table>\n",
       "</div>"
      ],
      "text/plain": [
       "  Class  Duration  Amount  InstallmentRatePercentage  ResidenceDuration  Age  \\\n",
       "0  Good         6    1169                          4                  4   67   \n",
       "1   Bad        48    5951                          2                  2   22   \n",
       "2  Good        12    2096                          2                  3   49   \n",
       "3  Good        36    9055                          2                  4   35   \n",
       "4  Good        24    2835                          3                  4   53   \n",
       "5  Good        12    3059                          2                  4   61   \n",
       "6   Bad        30    5234                          4                  2   28   \n",
       "7   Bad        48    4308                          3                  4   24   \n",
       "8  Good        12    1567                          1                  1   22   \n",
       "9   Bad        24    1199                          4                  4   60   \n",
       "\n",
       "   NumberExistingCredits  NumberPeopleMaintenance  Telephone  ForeignWorker  \\\n",
       "0                      2                        1          0              1   \n",
       "1                      1                        1          1              1   \n",
       "2                      1                        2          1              1   \n",
       "3                      1                        2          0              1   \n",
       "4                      1                        1          1              1   \n",
       "5                      1                        1          1              1   \n",
       "6                      2                        1          1              1   \n",
       "7                      1                        1          1              1   \n",
       "8                      1                        1          0              1   \n",
       "9                      2                        1          1              1   \n",
       "\n",
       "   CheckingAccountStatus.lt.0  CheckingAccountStatus.0.to.200  \\\n",
       "0                           1                               0   \n",
       "1                           0                               1   \n",
       "2                           0                               0   \n",
       "3                           0                               0   \n",
       "4                           0                               0   \n",
       "5                           0                               0   \n",
       "6                           0                               1   \n",
       "7                           1                               0   \n",
       "8                           0                               1   \n",
       "9                           1                               0   \n",
       "\n",
       "   CheckingAccountStatus.gt.200  CreditHistory.ThisBank.AllPaid  \\\n",
       "0                             0                               0   \n",
       "1                             0                               0   \n",
       "2                             0                               0   \n",
       "3                             0                               0   \n",
       "4                             0                               0   \n",
       "5                             0                               0   \n",
       "6                             0                               0   \n",
       "7                             0                               0   \n",
       "8                             0                               0   \n",
       "9                             0                               0   \n",
       "\n",
       "   CreditHistory.PaidDuly  CreditHistory.Delay  CreditHistory.Critical  \n",
       "0                       0                    0                       1  \n",
       "1                       1                    0                       0  \n",
       "2                       0                    0                       1  \n",
       "3                       1                    0                       0  \n",
       "4                       1                    0                       0  \n",
       "5                       1                    0                       0  \n",
       "6                       0                    0                       1  \n",
       "7                       1                    0                       0  \n",
       "8                       1                    0                       0  \n",
       "9                       0                    0                       1  "
      ]
     },
     "execution_count": 1,
     "metadata": {},
     "output_type": "execute_result"
    }
   ],
   "source": [
    "import pandas as pd\n",
    "\n",
    "# loading the training and test dataset\n",
    "credit_train = pd.read_csv('credit_train.csv')\n",
    "credit_test = pd.read_csv('credit_test.csv')\n",
    "\n",
    "credit_train.head(10)"
   ]
  },
  {
   "cell_type": "markdown",
   "metadata": {},
   "source": [
    "<h3>Q.0. Write code to display the count of null values in each column<h3>"
   ]
  },
  {
   "cell_type": "code",
   "execution_count": 3,
   "metadata": {
    "collapsed": true
   },
   "outputs": [
    {
     "data": {
      "text/plain": [
       "Class                             0\n",
       "Duration                          0\n",
       "Amount                            0\n",
       "InstallmentRatePercentage         0\n",
       "ResidenceDuration                 0\n",
       "Age                               0\n",
       "NumberExistingCredits             0\n",
       "NumberPeopleMaintenance           0\n",
       "Telephone                         0\n",
       "ForeignWorker                     0\n",
       "CheckingAccountStatus.lt.0        0\n",
       "CheckingAccountStatus.0.to.200    0\n",
       "CheckingAccountStatus.gt.200      0\n",
       "CreditHistory.ThisBank.AllPaid    0\n",
       "CreditHistory.PaidDuly            0\n",
       "CreditHistory.Delay               0\n",
       "CreditHistory.Critical            0\n",
       "dtype: int64"
      ]
     },
     "execution_count": 3,
     "metadata": {},
     "output_type": "execute_result"
    }
   ],
   "source": [
    "# Command:\n",
    "\n",
    "credit_train.isnull().sum()\n",
    "\n",
    "# One sentance summary: With a help from ChatGPT I discoverer that there is no single \"countnas()\" function in pandas. \n",
    "# Instead, I need to chain two methods: \"isnull()\" converts every single value in the dataset into a boolean, True if the \n",
    "# value is NA, false if not.E.g.\n",
    "#\n",
    "# 0.4 NA\n",
    "# 0.5 0.5\n",
    "# will becomr\n",
    "# False True\n",
    "# False False\n",
    "#\n",
    "# The result keeps the same features, and \"sum()\" method counts the number of True values in each column.\n",
    "# Finally, chained:\n",
    "# credit_train.isnull().sum()\n",
    "#"
   ]
  },
  {
   "cell_type": "markdown",
   "metadata": {},
   "source": [
    "<h3>Q.1. How does the distribution of credit amount look like? (Use a histogram plot to answer this question)</h3>"
   ]
  },
  {
   "cell_type": "code",
   "execution_count": 4,
   "metadata": {
    "collapsed": true
   },
   "outputs": [
    {
     "data": {
      "text/plain": [
       "<Axes: xlabel='Amount', ylabel='Count'>"
      ]
     },
     "execution_count": 4,
     "metadata": {},
     "output_type": "execute_result"
    },
    {
     "data": {
      "image/png": "[encoded data removed]",
      "text/plain": [
       "<Figure size 640x480 with 1 Axes>"
      ]
     },
     "metadata": {},
     "output_type": "display_data"
    }
   ],
   "source": [
    "# Put the command (or commands) here that would give an answer to the above question.\n",
    "import matplotlib.pyplot as plt\n",
    "import seaborn as sn\n",
    "%matplotlib inline\n",
    "\n",
    "sn.histplot(data=credit_train, x='Amount', kde=True)\n",
    "\n",
    "# GitHub copilot wanted me to use different form of histplot. Remember that the first arg is DataFrame."
   ]
  },
  {
   "cell_type": "markdown",
   "metadata": {},
   "source": [
    "<h3>Q.2. Can you generate a plot that shows CreditHistory.Critical vs. Credit Worthiness for the training data. Can you comment whether person with critical credit history is more credit worthy?</h3> "
   ]
  },
  {
   "cell_type": "code",
   "execution_count": 30,
   "metadata": {
    "collapsed": true
   },
   "outputs": [
    {
     "name": "stdout",
     "output_type": "stream",
     "text": [
      "Probability of being good if critical: 0.83\n",
      "Probability of being good if not critical: 0.64\n"
     ]
    },
    {
     "data": {
      "image/png": "[encoded data removed]",
      "text/plain": [
       "<Figure size 640x480 with 1 Axes>"
      ]
     },
     "metadata": {},
     "output_type": "display_data"
    }
   ],
   "source": [
    "sn.countplot(data=credit_train, x=\"CreditHistory.Critical\", hue=\"Class\")\n",
    "\n",
    "# One sentence summary:\n",
    "# First I want to check what's in the CreditHistory.Critical column. I suspect it's boolean, but better be sure.\n",
    "# credit_train['CreditHistory.Critical'] returns a Series, and \"value_counts()\" method counts the number of occurences of\n",
    "# each unique value. Is boolean alright.\n",
    "# Double checking the Class feature gives the same. Probably the bar plot is going to be the best way to visualize it.\n",
    "#\n",
    "# to the question: \"P(Good | Critical), which is P(Good & Critical) / P(Critical).\n",
    "p_good_and_critical = (\n",
    "    credit_train.where(credit_train[\"Class\"] == \"Good\")\n",
    "    .where(credit_train[\"CreditHistory.Critical\"] == True)\n",
    "    .count()[\"Class\"]\n",
    ")\n",
    "p_critical = credit_train.where(credit_train[\"CreditHistory.Critical\"] == True).count()[\n",
    "    \"Class\"\n",
    "]\n",
    "\n",
    "p_good_if_critical = p_good_and_critical / p_critical\n",
    "print(f\"Probability of being good if critical: {p_good_if_critical:.2f}\")\n",
    "\n",
    "# let's compare it with P(Good | Not Critical), which is P(Good & Not Critical) / P(Not Critical).\n",
    "p_good_and_not_critical = (\n",
    "    credit_train.where(credit_train[\"Class\"] == \"Good\")\n",
    "    .where(credit_train[\"CreditHistory.Critical\"] == False)\n",
    "    .count()[\"Class\"]\n",
    ")\n",
    "p_not_critical = credit_train.where(\n",
    "    credit_train[\"CreditHistory.Critical\"] == False\n",
    ").count()[\"Class\"]\n",
    "p_good_if_not_critical = p_good_and_not_critical / p_not_critical\n",
    "print(f\"Probability of being good if not critical: {p_good_if_not_critical:.2f}\")\n",
    "\n",
    "# One sentence summary:\n",
    "# It is more likely to be good if the credit history is critical."
   ]
  },
  {
   "cell_type": "markdown",
   "metadata": {},
   "source": [
    "<h3>Q.3. Binarize the y output for e.g. 0 = 'bad' credit; 1 = 'good' credit. </h3>"
   ]
  },
  {
   "cell_type": "code",
   "execution_count": 76,
   "metadata": {
    "collapsed": true
   },
   "outputs": [
    {
     "data": {
      "text/html": [
       "<div>\n",
       "<style scoped>\n",
       "    .dataframe tbody tr th:only-of-type {\n",
       "        vertical-align: middle;\n",
       "    }\n",
       "\n",
       "    .dataframe tbody tr th {\n",
       "        vertical-align: top;\n",
       "    }\n",
       "\n",
       "    .dataframe thead th {\n",
       "        text-align: right;\n",
       "    }\n",
       "</style>\n",
       "<table border=\"1\" class=\"dataframe\">\n",
       "  <thead>\n",
       "    <tr style=\"text-align: right;\">\n",
       "      <th></th>\n",
       "      <th>Class.Binary</th>\n",
       "      <th>Class</th>\n",
       "    </tr>\n",
       "  </thead>\n",
       "  <tbody>\n",
       "    <tr>\n",
       "      <th>0</th>\n",
       "      <td>1</td>\n",
       "      <td>Good</td>\n",
       "    </tr>\n",
       "    <tr>\n",
       "      <th>1</th>\n",
       "      <td>0</td>\n",
       "      <td>Bad</td>\n",
       "    </tr>\n",
       "    <tr>\n",
       "      <th>2</th>\n",
       "      <td>1</td>\n",
       "      <td>Good</td>\n",
       "    </tr>\n",
       "    <tr>\n",
       "      <th>3</th>\n",
       "      <td>0</td>\n",
       "      <td>Bad</td>\n",
       "    </tr>\n",
       "    <tr>\n",
       "      <th>4</th>\n",
       "      <td>0</td>\n",
       "      <td>Bad</td>\n",
       "    </tr>\n",
       "    <tr>\n",
       "      <th>...</th>\n",
       "      <td>...</td>\n",
       "      <td>...</td>\n",
       "    </tr>\n",
       "    <tr>\n",
       "      <th>187</th>\n",
       "      <td>0</td>\n",
       "      <td>Bad</td>\n",
       "    </tr>\n",
       "    <tr>\n",
       "      <th>188</th>\n",
       "      <td>1</td>\n",
       "      <td>Good</td>\n",
       "    </tr>\n",
       "    <tr>\n",
       "      <th>189</th>\n",
       "      <td>1</td>\n",
       "      <td>Good</td>\n",
       "    </tr>\n",
       "    <tr>\n",
       "      <th>190</th>\n",
       "      <td>1</td>\n",
       "      <td>Good</td>\n",
       "    </tr>\n",
       "    <tr>\n",
       "      <th>191</th>\n",
       "      <td>1</td>\n",
       "      <td>Good</td>\n",
       "    </tr>\n",
       "  </tbody>\n",
       "</table>\n",
       "<p>192 rows × 2 columns</p>\n",
       "</div>"
      ],
      "text/plain": [
       "     Class.Binary Class\n",
       "0               1  Good\n",
       "1               0   Bad\n",
       "2               1  Good\n",
       "3               0   Bad\n",
       "4               0   Bad\n",
       "..            ...   ...\n",
       "187             0   Bad\n",
       "188             1  Good\n",
       "189             1  Good\n",
       "190             1  Good\n",
       "191             1  Good\n",
       "\n",
       "[192 rows x 2 columns]"
      ]
     },
     "execution_count": 76,
     "metadata": {},
     "output_type": "execute_result"
    }
   ],
   "source": [
    "# Adding new feature\n",
    "credit_train['Class.Binary'] = (credit_train['Class'] == 'Good').astype(int)\n",
    "credit_train[['Class.Binary', 'Class']]\n",
    "\n",
    "credit_test['Class.Binary'] = (credit_test['Class'] == 'Good').astype(int)\n",
    "credit_test[['Class.Binary', 'Class']]\n"
   ]
  },
  {
   "cell_type": "markdown",
   "metadata": {},
   "source": [
    "<h3>Q.4. Generate a logistic regression model that uses the one predictor CreditHistory.Critical. Provide a summary of the model. </h3>"
   ]
  },
  {
   "cell_type": "code",
   "execution_count": 67,
   "metadata": {
    "collapsed": true
   },
   "outputs": [
    {
     "name": "stdout",
     "output_type": "stream",
     "text": [
      "Coefficients: [[0.98114476]]\n",
      "Intercept: [0.59130489]\n"
     ]
    }
   ],
   "source": [
    "from sklearn.linear_model import LogisticRegression\n",
    "\n",
    "# Create a model\n",
    "model = LogisticRegression().fit(X=credit_train[['CreditHistory.Critical']], y=credit_train['Class.Binary'])\n",
    "\n",
    "# Coefficients and Intercept, courtesty of ChatGTP\n",
    "print(f\"Coefficients: {model.coef_}\")\n",
    "print(f\"Intercept: {model.intercept_}\")\n"
   ]
  },
  {
   "cell_type": "markdown",
   "metadata": {},
   "source": [
    "### Summary\n",
    "\n",
    "The form of the model is the following:\n",
    "\n",
    "$$\n",
    "log(\\frac{p}{1-p}) = 0.59130489 + 0.98114476x\n",
    "$$,\n",
    "\n",
    "or after rearranging,\n",
    "\n",
    "$$\n",
    "\n",
    "p = \\frac{1}{1 + e^{0.59130489 + 0.98114476x}}\n",
    "\n",
    "$$\n",
    "\n",
    "The values can be interpreted as the log odds of being a good credit when the credit history is not critical is $\\approx0.59$, and the critical credit history increases it by $\\approx0.98$."
   ]
  },
  {
   "cell_type": "markdown",
   "metadata": {},
   "source": [
    "<h3>Q.5. Using the developed model, predict the values in credit_test and use it to output a confusion matrix.</h3>"
   ]
  },
  {
   "cell_type": "code",
   "execution_count": 84,
   "metadata": {
    "collapsed": true
   },
   "outputs": [
    {
     "data": {
      "text/html": [
       "<div>\n",
       "<style scoped>\n",
       "    .dataframe tbody tr th:only-of-type {\n",
       "        vertical-align: middle;\n",
       "    }\n",
       "\n",
       "    .dataframe tbody tr th {\n",
       "        vertical-align: top;\n",
       "    }\n",
       "\n",
       "    .dataframe thead th {\n",
       "        text-align: right;\n",
       "    }\n",
       "</style>\n",
       "<table border=\"1\" class=\"dataframe\">\n",
       "  <thead>\n",
       "    <tr style=\"text-align: right;\">\n",
       "      <th></th>\n",
       "      <th>Class.Probabilities</th>\n",
       "      <th>Class.Predicted</th>\n",
       "      <th>Class.Binary</th>\n",
       "      <th>CredHistory.Critical</th>\n",
       "    </tr>\n",
       "  </thead>\n",
       "  <tbody>\n",
       "    <tr>\n",
       "      <th>0</th>\n",
       "      <td>0.643664</td>\n",
       "      <td>1</td>\n",
       "      <td>1</td>\n",
       "      <td>0</td>\n",
       "    </tr>\n",
       "    <tr>\n",
       "      <th>1</th>\n",
       "      <td>0.643664</td>\n",
       "      <td>1</td>\n",
       "      <td>0</td>\n",
       "      <td>0</td>\n",
       "    </tr>\n",
       "    <tr>\n",
       "      <th>2</th>\n",
       "      <td>0.643664</td>\n",
       "      <td>1</td>\n",
       "      <td>1</td>\n",
       "      <td>0</td>\n",
       "    </tr>\n",
       "    <tr>\n",
       "      <th>3</th>\n",
       "      <td>0.643664</td>\n",
       "      <td>1</td>\n",
       "      <td>0</td>\n",
       "      <td>0</td>\n",
       "    </tr>\n",
       "    <tr>\n",
       "      <th>4</th>\n",
       "      <td>0.643664</td>\n",
       "      <td>1</td>\n",
       "      <td>0</td>\n",
       "      <td>0</td>\n",
       "    </tr>\n",
       "    <tr>\n",
       "      <th>...</th>\n",
       "      <td>...</td>\n",
       "      <td>...</td>\n",
       "      <td>...</td>\n",
       "      <td>...</td>\n",
       "    </tr>\n",
       "    <tr>\n",
       "      <th>187</th>\n",
       "      <td>0.828133</td>\n",
       "      <td>1</td>\n",
       "      <td>0</td>\n",
       "      <td>1</td>\n",
       "    </tr>\n",
       "    <tr>\n",
       "      <th>188</th>\n",
       "      <td>0.643664</td>\n",
       "      <td>1</td>\n",
       "      <td>1</td>\n",
       "      <td>0</td>\n",
       "    </tr>\n",
       "    <tr>\n",
       "      <th>189</th>\n",
       "      <td>0.643664</td>\n",
       "      <td>1</td>\n",
       "      <td>1</td>\n",
       "      <td>0</td>\n",
       "    </tr>\n",
       "    <tr>\n",
       "      <th>190</th>\n",
       "      <td>0.643664</td>\n",
       "      <td>1</td>\n",
       "      <td>1</td>\n",
       "      <td>0</td>\n",
       "    </tr>\n",
       "    <tr>\n",
       "      <th>191</th>\n",
       "      <td>0.643664</td>\n",
       "      <td>1</td>\n",
       "      <td>1</td>\n",
       "      <td>0</td>\n",
       "    </tr>\n",
       "  </tbody>\n",
       "</table>\n",
       "<p>192 rows × 4 columns</p>\n",
       "</div>"
      ],
      "text/plain": [
       "     Class.Probabilities  Class.Predicted  Class.Binary  CredHistory.Critical\n",
       "0               0.643664                1             1                     0\n",
       "1               0.643664                1             0                     0\n",
       "2               0.643664                1             1                     0\n",
       "3               0.643664                1             0                     0\n",
       "4               0.643664                1             0                     0\n",
       "..                   ...              ...           ...                   ...\n",
       "187             0.828133                1             0                     1\n",
       "188             0.643664                1             1                     0\n",
       "189             0.643664                1             1                     0\n",
       "190             0.643664                1             1                     0\n",
       "191             0.643664                1             1                     0\n",
       "\n",
       "[192 rows x 4 columns]"
      ]
     },
     "metadata": {},
     "output_type": "display_data"
    },
    {
     "name": "stdout",
     "output_type": "stream",
     "text": [
      "[[  0  54]\n",
      " [  0 138]]\n"
     ]
    }
   ],
   "source": [
    "from sklearn.metrics import classification_report, confusion_matrix\n",
    "\n",
    "predictions = pd.DataFrame()\n",
    "predictions[\"Class.Probabilities\"] = model.predict_proba(credit_test[[\"CreditHistory.Critical\"]])[:, 1]\n",
    "predictions[\"Class.Predicted\"] = model.predict(credit_test[[\"CreditHistory.Critical\"]])\n",
    "predictions[\"Class.Binary\"] = credit_test[\"Class.Binary\"]\n",
    "predictions[\"CredHistory.Critical\"] = credit_test[\"CreditHistory.Critical\"]\n",
    "\n",
    "display(predictions)\n",
    "\n",
    "\n",
    "print(confusion_matrix(predictions[\"Class.Binary\"], predictions[\"Class.Predicted\"]))"
   ]
  },
  {
   "cell_type": "markdown",
   "metadata": {},
   "source": [
    "<h3>Q.6. What is the accuracy of the model on the test data?</h3>"
   ]
  },
  {
   "cell_type": "code",
   "execution_count": 88,
   "metadata": {
    "collapsed": true
   },
   "outputs": [
    {
     "name": "stdout",
     "output_type": "stream",
     "text": [
      "              precision    recall  f1-score   support\n",
      "\n",
      "           0       0.00      0.00      0.00        54\n",
      "           1       0.72      1.00      0.84       138\n",
      "\n",
      "    accuracy                           0.72       192\n",
      "   macro avg       0.36      0.50      0.42       192\n",
      "weighted avg       0.52      0.72      0.60       192\n",
      "\n",
      "Accuracy: 0.72\n"
     ]
    },
    {
     "name": "stderr",
     "output_type": "stream",
     "text": [
      "/Users/matehal/Documents/mhaligowski/uw/.venv/lib/python3.11/site-packages/sklearn/metrics/_classification.py:1497: UndefinedMetricWarning: Precision is ill-defined and being set to 0.0 in labels with no predicted samples. Use `zero_division` parameter to control this behavior.\n",
      "  _warn_prf(average, modifier, f\"{metric.capitalize()} is\", len(result))\n",
      "/Users/matehal/Documents/mhaligowski/uw/.venv/lib/python3.11/site-packages/sklearn/metrics/_classification.py:1497: UndefinedMetricWarning: Precision is ill-defined and being set to 0.0 in labels with no predicted samples. Use `zero_division` parameter to control this behavior.\n",
      "  _warn_prf(average, modifier, f\"{metric.capitalize()} is\", len(result))\n",
      "/Users/matehal/Documents/mhaligowski/uw/.venv/lib/python3.11/site-packages/sklearn/metrics/_classification.py:1497: UndefinedMetricWarning: Precision is ill-defined and being set to 0.0 in labels with no predicted samples. Use `zero_division` parameter to control this behavior.\n",
      "  _warn_prf(average, modifier, f\"{metric.capitalize()} is\", len(result))\n"
     ]
    }
   ],
   "source": [
    "# Command that outputs acccuracy\n",
    "print(classification_report(predictions['Class.Binary'], predictions['Class.Predicted']))\n",
    "print(f\"Accuracy: {model.score(credit_test[['CreditHistory.Critical']], credit_test['Class.Binary']):.2f}\")\n"
   ]
  },
  {
   "cell_type": "markdown",
   "metadata": {},
   "source": [
    "<h3>Q.7. Generate the ROC curve.</h3>"
   ]
  },
  {
   "cell_type": "code",
   "execution_count": 91,
   "metadata": {
    "collapsed": true
   },
   "outputs": [
    {
     "data": {
      "image/png": "[encoded data removed]",
      "text/plain": [
       "<Figure size 800x600 with 1 Axes>"
      ]
     },
     "metadata": {},
     "output_type": "display_data"
    }
   ],
   "source": [
    "from sklearn.metrics import roc_curve, roc_auc_score\n",
    "\n",
    "fpr, tpr, thresholds = roc_curve(predictions[['Class.Binary']], predictions[['Class.Probabilities']])\n",
    "\n",
    "plt.figure(figsize=(8, 6))\n",
    "plt.plot(fpr, tpr, color='darkorange', lw=2, label='ROC curve')\n",
    "plt.plot([0, 1], [0, 1], color='navy', lw=2, linestyle='--')\n",
    "plt.xlim([0.0, 1.0])\n",
    "plt.ylim([0.0, 1.05])\n",
    "plt.xlabel('False Positive Rate')\n",
    "plt.ylabel('True Positive Rate')\n",
    "plt.title('Receiver Operating Characteristic (ROC) Curve')\n",
    "plt.legend(loc=\"lower right\")\n",
    "plt.show()\n"
   ]
  },
  {
   "cell_type": "markdown",
   "metadata": {},
   "source": [
    "<h3>Q.8. What is the ROC AUC of the model on the test data?</h3>"
   ]
  },
  {
   "cell_type": "code",
   "execution_count": 93,
   "metadata": {
    "collapsed": true
   },
   "outputs": [
    {
     "name": "stdout",
     "output_type": "stream",
     "text": [
      "AUC: 0.58\n"
     ]
    }
   ],
   "source": [
    "# Command(s):\n",
    "auc = roc_auc_score(predictions[['Class.Binary']], predictions[['Class.Probabilities']])\n",
    "print(f\"AUC: {auc:.2f}\")"
   ]
  },
  {
   "cell_type": "markdown",
   "metadata": {},
   "source": [
    "<h3>Q.9. Calculate LDA model on credit_train.</h3>"
   ]
  },
  {
   "cell_type": "code",
   "execution_count": 94,
   "metadata": {
    "collapsed": true
   },
   "outputs": [
    {
     "name": "stdout",
     "output_type": "stream",
     "text": [
      "Coefficients: [[0.93008353]]\n",
      "Intercept: [0.59794154]\n"
     ]
    }
   ],
   "source": [
    "from sklearn.discriminant_analysis import LinearDiscriminantAnalysis\n",
    "\n",
    "lda = LinearDiscriminantAnalysis()\n",
    "lda.fit(credit_train[['CreditHistory.Critical']], credit_train['Class.Binary'])\n",
    "\n",
    "# Coefficients and Intercept, courtesty of ChatGTP\n",
    "print(f\"Coefficients: {lda.coef_}\")\n",
    "print(f\"Intercept: {lda.intercept_}\")"
   ]
  },
  {
   "cell_type": "markdown",
   "metadata": {},
   "source": [
    "<h3>Q.10. What is the accuracy of the new model?</h3>"
   ]
  },
  {
   "cell_type": "code",
   "execution_count": 95,
   "metadata": {
    "collapsed": true
   },
   "outputs": [
    {
     "name": "stdout",
     "output_type": "stream",
     "text": [
      "0.71875\n"
     ]
    }
   ],
   "source": [
    "\n",
    "print(lda.score(credit_test[['CreditHistory.Critical']], credit_test['Class.Binary']))"
   ]
  },
  {
   "cell_type": "markdown",
   "metadata": {},
   "source": [
    "<h3>Q.11. Create a new text cell in your Notebook: Complete a 50-100 word summary \n",
    "    (or short description of your thinking in applying this week's learning to the solution) \n",
    "     of your experience in this assignment. Include:\n",
    "<br>                                                                       \n",
    "What was your incoming experience with this model, if any?\n",
    "what steps you took, what obstacles you encountered.\n",
    "how you link this exercise to real-world, machine learning problem-solving. (What steps were missing? What else do you need to learn?)\n",
    "This summary allows your instructor to know how you are doing and allot points for your effort in thinking and planning, and making connections to real-world work.\n",
    "</h3>"
   ]
  },
  {
   "cell_type": "markdown",
   "metadata": {},
   "source": [
    "After reading the intro to the exercise I was looking forward to getting some nice and meaningful results because of \n",
    "a relatively high quality of the data. Unfortunately, it turned looks like the suggested feature does not explain well\n",
    "the credit worthiness. The accuracy of the model is only 0.7, and the ROC AUC is 0.5, which means that the model is not really much better than a random guess. It's especially disappointing that the model was not able to predict a single bad credit worthiness.\n",
    "\n",
    "I think it would be useful to look at the conditinal probabilities to see which are the best predicttors of the credit worthiness."
   ]
  }
 ],
 "metadata": {
  "kernelspec": {
   "display_name": "Python 3 [3.6]",
   "language": "python",
   "name": "python3"
  },
  "language_info": {
   "codemirror_mode": {
    "name": "ipython",
    "version": 3
   },
   "file_extension": ".py",
   "mimetype": "text/x-python",
   "name": "python",
   "nbconvert_exporter": "python",
   "pygments_lexer": "ipython3",
   "version": "3.11.7"
  }
 },
 "nbformat": 4,
 "nbformat_minor": 2
}
