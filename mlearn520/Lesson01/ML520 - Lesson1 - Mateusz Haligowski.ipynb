{
 "cells": [
  {
   "cell_type": "markdown",
   "metadata": {},
   "source": [
    "# Multiclass Classification\n",
    "\n",
    "While binary classifiers are used to distinguish between two classes (e.g. detect if a transaction is a fraudulent one, classify an email into either spam or non-spam and etc.), multiclass classifiers distinguish between more than two classes. \n",
    "\n",
    "There are various ways that we can use to perform multiclass classification by leveraging any binary classifiers. In this exercise, you will implement two such strategies for multiclass classification: _One-versus-all_ strategy and _One-versus-one_ strategy.\n",
    "\n",
    "- **One-versus-all (OvA)**: In this strategy, we train a single binary classifier per class, with the samples of that class as positive samples and all other samples as negatives. During inference, we get the prediction from each classifier and select the class with the highest score. This strategy is also called the one-versus-the-rest strtegey. \n",
    "\n",
    "- **One-versus-one (OvO)**: In this strategy, we train a binary classifier for every pair of classes. If there are N classes in the problem, you need to train N * (N-1) / 2 classifiers. During inference, we have to run through all N * (N-1) / 2 classifiers and ses which class wins the most votes. The main advantage of OvO strategy is that each binary classifier only needs to be train on the part of the training dataset for the two classes that it needs to separate. "
   ]
  },
  {
   "cell_type": "code",
   "execution_count": 161,
   "metadata": {},
   "outputs": [],
   "source": [
    "# import packages\n",
    "%matplotlib inline\n",
    "import numpy as np\n",
    "import matplotlib.pyplot as plt\n",
    "import pandas as pd\n",
    "from sklearn import datasets\n",
    "from sklearn.linear_model import LogisticRegression\n",
    "\n",
    "# make this notebook's output stable across runs\n",
    "np.random.seed(0)"
   ]
  },
  {
   "cell_type": "markdown",
   "metadata": {},
   "source": [
    "## Avila Dataset\n",
    "\n",
    "In this lab assignment, we use the [Avila](https://archive.ics.uci.edu/ml/datasets/Avila) data set has been extracted from 800 images of the the \"Avila Bible\", a giant Latin copy of the whole Bible produced during the XII century between Italy and Spain.  \n",
    "The palaeographic analysis of the  manuscript has  individuated the presence of 12 copyists. The pages written by each copyist are not equally numerous. \n",
    "Each pattern contains 10 features and corresponds to a group of 4 consecutive rows.\n",
    "\n",
    "The prediction task consists in associating each pattern to one of the 12 copyists (labeled as: A, B, C, D, E, F, G, H, I, W, X, Y).\n",
    "The data have has been normalized, by using the Z-normalization method, and divided in two data sets: a training set containing 10430 samples, and a test set  containing the 10437 samples.\n"
   ]
  },
  {
   "cell_type": "code",
   "execution_count": 162,
   "metadata": {},
   "outputs": [],
   "source": [
    "# Load train and test data from CSV files.\n",
    "train = pd.read_csv(\"avila-tr.txt\", header=None)\n",
    "test = pd.read_csv(\"avila-ts.txt\", header=None)\n",
    "\n",
    "x_train = train.iloc[:,:-1]\n",
    "y_train = train.iloc[:,-1]\n",
    "\n",
    "x_test = test.iloc[:,:-1]\n",
    "y_test = test.iloc[:,-1]"
   ]
  },
  {
   "cell_type": "code",
   "execution_count": 163,
   "metadata": {},
   "outputs": [
    {
     "name": "stdout",
     "output_type": "stream",
     "text": [
      "Train\n"
     ]
    },
    {
     "data": {
      "text/plain": [
       "10\n",
       "A    4286\n",
       "B       5\n",
       "C     103\n",
       "D     352\n",
       "E    1095\n",
       "F    1961\n",
       "G     446\n",
       "H     519\n",
       "I     831\n",
       "W      44\n",
       "X     522\n",
       "Y     266\n",
       "Name: count, dtype: int64"
      ]
     },
     "metadata": {},
     "output_type": "display_data"
    },
    {
     "name": "stdout",
     "output_type": "stream",
     "text": [
      "Test\n"
     ]
    },
    {
     "data": {
      "text/plain": [
       "10\n",
       "A    4286\n",
       "B       5\n",
       "C     103\n",
       "D     353\n",
       "E    1095\n",
       "F    1962\n",
       "G     447\n",
       "H     520\n",
       "I     832\n",
       "W      45\n",
       "X     522\n",
       "Y     267\n",
       "Name: count, dtype: int64"
      ]
     },
     "metadata": {},
     "output_type": "display_data"
    }
   ],
   "source": [
    "# Output the number of images in each class in the train and test datasets.\n",
    "\n",
    "# Taking column 10 (the class) and counting the number of each class in the train and test datasets. Also sorting \n",
    "# the output by the class number.\n",
    "print(\"Train\")\n",
    "display(y_train.value_counts().sort_index())\n",
    "\n",
    "print(\"Test\")\n",
    "display(y_test.value_counts().sort_index())\n"
   ]
  },
  {
   "cell_type": "markdown",
   "metadata": {},
   "source": [
    "Question 1.1: Check for missing Data"
   ]
  },
  {
   "cell_type": "code",
   "execution_count": 164,
   "metadata": {},
   "outputs": [
    {
     "name": "stdout",
     "output_type": "stream",
     "text": [
      "Does train has any missing data? False\n",
      "Does train has any missing data? False\n"
     ]
    }
   ],
   "source": [
    "# Missing data in the train set.\n",
    "print(f\"Does train has any missing data? {train.isna().sum().sum() > 0}\")\n",
    "print(f\"Does train has any missing data? {test.isna().sum().sum() > 0}\")\n"
   ]
  },
  {
   "cell_type": "markdown",
   "metadata": {},
   "source": [
    "Question 1.2: Apply Z-normalization to data"
   ]
  },
  {
   "cell_type": "code",
   "execution_count": 165,
   "metadata": {},
   "outputs": [
    {
     "data": {
      "text/html": [
       "<div>\n",
       "<style scoped>\n",
       "    .dataframe tbody tr th:only-of-type {\n",
       "        vertical-align: middle;\n",
       "    }\n",
       "\n",
       "    .dataframe tbody tr th {\n",
       "        vertical-align: top;\n",
       "    }\n",
       "\n",
       "    .dataframe thead th {\n",
       "        text-align: right;\n",
       "    }\n",
       "</style>\n",
       "<table border=\"1\" class=\"dataframe\">\n",
       "  <thead>\n",
       "    <tr style=\"text-align: right;\">\n",
       "      <th></th>\n",
       "      <th>0</th>\n",
       "      <th>1</th>\n",
       "      <th>2</th>\n",
       "      <th>3</th>\n",
       "      <th>4</th>\n",
       "      <th>5</th>\n",
       "      <th>6</th>\n",
       "      <th>7</th>\n",
       "      <th>8</th>\n",
       "      <th>9</th>\n",
       "    </tr>\n",
       "  </thead>\n",
       "  <tbody>\n",
       "    <tr>\n",
       "      <th>0</th>\n",
       "      <td>0.266074</td>\n",
       "      <td>-0.165620</td>\n",
       "      <td>0.320980</td>\n",
       "      <td>0.483299</td>\n",
       "      <td>0.172340</td>\n",
       "      <td>0.273364</td>\n",
       "      <td>0.371178</td>\n",
       "      <td>0.929823</td>\n",
       "      <td>0.251173</td>\n",
       "      <td>0.159345</td>\n",
       "    </tr>\n",
       "    <tr>\n",
       "      <th>1</th>\n",
       "      <td>0.130292</td>\n",
       "      <td>0.870736</td>\n",
       "      <td>-3.210528</td>\n",
       "      <td>0.062493</td>\n",
       "      <td>0.261718</td>\n",
       "      <td>1.436060</td>\n",
       "      <td>1.465940</td>\n",
       "      <td>0.636203</td>\n",
       "      <td>0.282354</td>\n",
       "      <td>0.515587</td>\n",
       "    </tr>\n",
       "    <tr>\n",
       "      <th>2</th>\n",
       "      <td>-0.116585</td>\n",
       "      <td>0.069915</td>\n",
       "      <td>0.068476</td>\n",
       "      <td>-0.783147</td>\n",
       "      <td>0.261718</td>\n",
       "      <td>0.439463</td>\n",
       "      <td>-0.081827</td>\n",
       "      <td>-0.888236</td>\n",
       "      <td>-0.123005</td>\n",
       "      <td>0.582939</td>\n",
       "    </tr>\n",
       "    <tr>\n",
       "      <th>3</th>\n",
       "      <td>0.031541</td>\n",
       "      <td>0.297600</td>\n",
       "      <td>-3.210528</td>\n",
       "      <td>-0.583590</td>\n",
       "      <td>-0.721442</td>\n",
       "      <td>-0.307984</td>\n",
       "      <td>0.710932</td>\n",
       "      <td>1.051693</td>\n",
       "      <td>0.594169</td>\n",
       "      <td>-0.533994</td>\n",
       "    </tr>\n",
       "    <tr>\n",
       "      <th>4</th>\n",
       "      <td>0.229043</td>\n",
       "      <td>0.807926</td>\n",
       "      <td>-0.052442</td>\n",
       "      <td>0.082634</td>\n",
       "      <td>0.261718</td>\n",
       "      <td>0.148790</td>\n",
       "      <td>0.635431</td>\n",
       "      <td>0.051062</td>\n",
       "      <td>0.032902</td>\n",
       "      <td>-0.086652</td>\n",
       "    </tr>\n",
       "  </tbody>\n",
       "</table>\n",
       "</div>"
      ],
      "text/plain": [
       "          0         1         2         3         4         5         6  \\\n",
       "0  0.266074 -0.165620  0.320980  0.483299  0.172340  0.273364  0.371178   \n",
       "1  0.130292  0.870736 -3.210528  0.062493  0.261718  1.436060  1.465940   \n",
       "2 -0.116585  0.069915  0.068476 -0.783147  0.261718  0.439463 -0.081827   \n",
       "3  0.031541  0.297600 -3.210528 -0.583590 -0.721442 -0.307984  0.710932   \n",
       "4  0.229043  0.807926 -0.052442  0.082634  0.261718  0.148790  0.635431   \n",
       "\n",
       "          7         8         9  \n",
       "0  0.929823  0.251173  0.159345  \n",
       "1  0.636203  0.282354  0.515587  \n",
       "2 -0.888236 -0.123005  0.582939  \n",
       "3  1.051693  0.594169 -0.533994  \n",
       "4  0.051062  0.032902 -0.086652  "
      ]
     },
     "metadata": {},
     "output_type": "display_data"
    },
    {
     "data": {
      "text/html": [
       "<div>\n",
       "<style scoped>\n",
       "    .dataframe tbody tr th:only-of-type {\n",
       "        vertical-align: middle;\n",
       "    }\n",
       "\n",
       "    .dataframe tbody tr th {\n",
       "        vertical-align: top;\n",
       "    }\n",
       "\n",
       "    .dataframe thead th {\n",
       "        text-align: right;\n",
       "    }\n",
       "</style>\n",
       "<table border=\"1\" class=\"dataframe\">\n",
       "  <thead>\n",
       "    <tr style=\"text-align: right;\">\n",
       "      <th></th>\n",
       "      <th>0</th>\n",
       "      <th>1</th>\n",
       "      <th>2</th>\n",
       "      <th>3</th>\n",
       "      <th>4</th>\n",
       "      <th>5</th>\n",
       "      <th>6</th>\n",
       "      <th>7</th>\n",
       "      <th>8</th>\n",
       "      <th>9</th>\n",
       "    </tr>\n",
       "  </thead>\n",
       "  <tbody>\n",
       "    <tr>\n",
       "      <th>0</th>\n",
       "      <td>0.267527</td>\n",
       "      <td>-0.050815</td>\n",
       "      <td>0.287020</td>\n",
       "      <td>0.481603</td>\n",
       "      <td>0.167308</td>\n",
       "      <td>0.230326</td>\n",
       "      <td>0.278279</td>\n",
       "      <td>0.916331</td>\n",
       "      <td>0.219066</td>\n",
       "      <td>0.157418</td>\n",
       "    </tr>\n",
       "    <tr>\n",
       "      <th>1</th>\n",
       "      <td>0.130565</td>\n",
       "      <td>0.213515</td>\n",
       "      <td>-2.865694</td>\n",
       "      <td>0.064334</td>\n",
       "      <td>0.257406</td>\n",
       "      <td>1.262741</td>\n",
       "      <td>1.111627</td>\n",
       "      <td>0.623723</td>\n",
       "      <td>0.247735</td>\n",
       "      <td>0.511168</td>\n",
       "    </tr>\n",
       "    <tr>\n",
       "      <th>2</th>\n",
       "      <td>-0.118458</td>\n",
       "      <td>0.009260</td>\n",
       "      <td>0.061600</td>\n",
       "      <td>-0.774197</td>\n",
       "      <td>0.257406</td>\n",
       "      <td>0.377813</td>\n",
       "      <td>-0.066555</td>\n",
       "      <td>-0.895461</td>\n",
       "      <td>-0.124970</td>\n",
       "      <td>0.578049</td>\n",
       "    </tr>\n",
       "    <tr>\n",
       "      <th>3</th>\n",
       "      <td>0.030955</td>\n",
       "      <td>0.067333</td>\n",
       "      <td>-2.865694</td>\n",
       "      <td>-0.576317</td>\n",
       "      <td>-0.733677</td>\n",
       "      <td>-0.285881</td>\n",
       "      <td>0.536904</td>\n",
       "      <td>1.037781</td>\n",
       "      <td>0.534432</td>\n",
       "      <td>-0.531070</td>\n",
       "    </tr>\n",
       "    <tr>\n",
       "      <th>4</th>\n",
       "      <td>0.230174</td>\n",
       "      <td>0.197495</td>\n",
       "      <td>-0.046348</td>\n",
       "      <td>0.084306</td>\n",
       "      <td>0.257406</td>\n",
       "      <td>0.119711</td>\n",
       "      <td>0.479432</td>\n",
       "      <td>0.040599</td>\n",
       "      <td>0.018378</td>\n",
       "      <td>-0.086858</td>\n",
       "    </tr>\n",
       "  </tbody>\n",
       "</table>\n",
       "</div>"
      ],
      "text/plain": [
       "          0         1         2         3         4         5         6  \\\n",
       "0  0.267527 -0.050815  0.287020  0.481603  0.167308  0.230326  0.278279   \n",
       "1  0.130565  0.213515 -2.865694  0.064334  0.257406  1.262741  1.111627   \n",
       "2 -0.118458  0.009260  0.061600 -0.774197  0.257406  0.377813 -0.066555   \n",
       "3  0.030955  0.067333 -2.865694 -0.576317 -0.733677 -0.285881  0.536904   \n",
       "4  0.230174  0.197495 -0.046348  0.084306  0.257406  0.119711  0.479432   \n",
       "\n",
       "          7         8         9  \n",
       "0  0.916331  0.219066  0.157418  \n",
       "1  0.623723  0.247735  0.511168  \n",
       "2 -0.895461 -0.124970  0.578049  \n",
       "3  1.037781  0.534432 -0.531070  \n",
       "4  0.040599  0.018378 -0.086858  "
      ]
     },
     "metadata": {},
     "output_type": "display_data"
    }
   ],
   "source": [
    "from sklearn.preprocessing import StandardScaler\n",
    "scaler = StandardScaler()\n",
    "\n",
    "display(x_train.head())\n",
    "\n",
    "scaler.fit(X=x_train, y=y_train)\n",
    "x_train_scaled = scaler.transform(x_train)\n",
    "x_train = pd.DataFrame(x_train_scaled, columns=x_train.columns)\n",
    "\n",
    "display(x_train.head())\n",
    "\n"
   ]
  },
  {
   "cell_type": "markdown",
   "metadata": {},
   "source": [
    "Question 2.1: Write a method to train multiple logistic regression models performing One vs All (OvA) classification. The method allows you to pass in training features, and target. The method returns a list of models and their associated labels. \n",
    "Within the method:\n",
    "- Determine the list of classes\n",
    "- Create a place to store all the models\n",
    "- For each class, train a model with the target variable set to 1 and 0 for all other classes\n",
    "- Return the list of models trained and associated labels."
   ]
  },
  {
   "cell_type": "code",
   "execution_count": 166,
   "metadata": {},
   "outputs": [],
   "source": [
    "from typing import Any, List\n",
    "\n",
    "\n",
    "def trainOvA(x, y):\n",
    "    \"\"\"\n",
    "    TODO: Train the multiclass classifier using OvA strategy. \n",
    "    \"\"\"\n",
    "    labels = sorted(y.unique())\n",
    "    n_labels = len(labels)\n",
    "    print(\"number of classes is {}\".format(n_labels))\n",
    "    \n",
    "    models: List[Any] = [None] * n_labels\n",
    "    model_labels = [None] * n_labels\n",
    "\n",
    "    for i, label in enumerate(labels):\n",
    "        # Create model\n",
    "        print(\"Train Logistic Regression model for class {}\".format(label))\n",
    "        model = LogisticRegression()\n",
    "\n",
    "        y_binary = (y == label).astype(int)\n",
    "        model.fit(x, y_binary)\n",
    "\n",
    "        models[i] = model\n",
    "        model_labels[i] = label\n",
    "\n",
    "    return models, model_labels"
   ]
  },
  {
   "cell_type": "markdown",
   "metadata": {},
   "source": [
    "Question 2.2: Write a method that leverage the multiple models train for OvA, and outputs the majority class."
   ]
  },
  {
   "cell_type": "code",
   "execution_count": 167,
   "metadata": {},
   "outputs": [],
   "source": [
    "def predictOvA(models, labels, x):\n",
    "    \"\"\"\n",
    "    TODO: Make predictions on multiclass problems using the OvA strategy. \n",
    "    \"\"\"\n",
    "    if models == None:\n",
    "        sys.exit(\"The model has not been trained yet. Please call train() first. Exiting...\")\n",
    "\n",
    "    #Create prediction\n",
    "    predictions = pd.DataFrame(columns=labels)\n",
    "    for label, model in zip(labels, models):\n",
    "        # We need to extract [:, 1] to get the probability of the positive class.\n",
    "        predictions[label] = model.predict_proba(x)[:, 1]\n",
    "\n",
    "    display(predictions.head())\n",
    "    return predictions.idxmax(axis=1).values"
   ]
  },
  {
   "cell_type": "markdown",
   "metadata": {},
   "source": [
    "Question 2.3: Train OvA model on the Avila dataset"
   ]
  },
  {
   "cell_type": "code",
   "execution_count": 168,
   "metadata": {},
   "outputs": [
    {
     "name": "stdout",
     "output_type": "stream",
     "text": [
      "number of classes is 12\n",
      "Train Logistic Regression model for class A\n",
      "Train Logistic Regression model for class B\n",
      "Train Logistic Regression model for class C\n",
      "Train Logistic Regression model for class D\n",
      "Train Logistic Regression model for class E\n",
      "Train Logistic Regression model for class F\n",
      "Train Logistic Regression model for class G\n",
      "Train Logistic Regression model for class H\n",
      "Train Logistic Regression model for class I\n",
      "Train Logistic Regression model for class W\n",
      "Train Logistic Regression model for class X\n",
      "Train Logistic Regression model for class Y\n"
     ]
    }
   ],
   "source": [
    "models, model_labels = trainOvA(x_train, y_train)"
   ]
  },
  {
   "cell_type": "markdown",
   "metadata": {},
   "source": [
    "Question 2.4: Predict and evalutate the results of your model"
   ]
  },
  {
   "cell_type": "code",
   "execution_count": 169,
   "metadata": {},
   "outputs": [
    {
     "data": {
      "text/html": [
       "<div>\n",
       "<style scoped>\n",
       "    .dataframe tbody tr th:only-of-type {\n",
       "        vertical-align: middle;\n",
       "    }\n",
       "\n",
       "    .dataframe tbody tr th {\n",
       "        vertical-align: top;\n",
       "    }\n",
       "\n",
       "    .dataframe thead th {\n",
       "        text-align: right;\n",
       "    }\n",
       "</style>\n",
       "<table border=\"1\" class=\"dataframe\">\n",
       "  <thead>\n",
       "    <tr style=\"text-align: right;\">\n",
       "      <th></th>\n",
       "      <th>A</th>\n",
       "      <th>B</th>\n",
       "      <th>C</th>\n",
       "      <th>D</th>\n",
       "      <th>E</th>\n",
       "      <th>F</th>\n",
       "      <th>G</th>\n",
       "      <th>H</th>\n",
       "      <th>I</th>\n",
       "      <th>W</th>\n",
       "      <th>X</th>\n",
       "      <th>Y</th>\n",
       "    </tr>\n",
       "  </thead>\n",
       "  <tbody>\n",
       "    <tr>\n",
       "      <th>0</th>\n",
       "      <td>0.589714</td>\n",
       "      <td>0.004225</td>\n",
       "      <td>0.014231</td>\n",
       "      <td>0.030204</td>\n",
       "      <td>0.227871</td>\n",
       "      <td>0.024916</td>\n",
       "      <td>0.008499</td>\n",
       "      <td>0.000271</td>\n",
       "      <td>9.294807e-08</td>\n",
       "      <td>0.220406</td>\n",
       "      <td>0.278997</td>\n",
       "      <td>0.047493</td>\n",
       "    </tr>\n",
       "    <tr>\n",
       "      <th>1</th>\n",
       "      <td>0.042894</td>\n",
       "      <td>0.000097</td>\n",
       "      <td>0.025909</td>\n",
       "      <td>0.012274</td>\n",
       "      <td>0.344777</td>\n",
       "      <td>0.064239</td>\n",
       "      <td>0.119464</td>\n",
       "      <td>0.337260</td>\n",
       "      <td>2.617123e-01</td>\n",
       "      <td>0.000162</td>\n",
       "      <td>0.480610</td>\n",
       "      <td>0.001315</td>\n",
       "    </tr>\n",
       "    <tr>\n",
       "      <th>2</th>\n",
       "      <td>0.215340</td>\n",
       "      <td>0.000001</td>\n",
       "      <td>0.011637</td>\n",
       "      <td>0.074561</td>\n",
       "      <td>0.119586</td>\n",
       "      <td>0.142983</td>\n",
       "      <td>0.071152</td>\n",
       "      <td>0.132069</td>\n",
       "      <td>7.900001e-01</td>\n",
       "      <td>0.000110</td>\n",
       "      <td>0.011605</td>\n",
       "      <td>0.000670</td>\n",
       "    </tr>\n",
       "    <tr>\n",
       "      <th>3</th>\n",
       "      <td>0.136859</td>\n",
       "      <td>0.000053</td>\n",
       "      <td>0.014832</td>\n",
       "      <td>0.011912</td>\n",
       "      <td>0.062806</td>\n",
       "      <td>0.104072</td>\n",
       "      <td>0.031091</td>\n",
       "      <td>0.025584</td>\n",
       "      <td>4.921090e-03</td>\n",
       "      <td>0.000127</td>\n",
       "      <td>0.001090</td>\n",
       "      <td>0.002176</td>\n",
       "    </tr>\n",
       "    <tr>\n",
       "      <th>4</th>\n",
       "      <td>0.658432</td>\n",
       "      <td>0.000003</td>\n",
       "      <td>0.005328</td>\n",
       "      <td>0.031513</td>\n",
       "      <td>0.096298</td>\n",
       "      <td>0.257332</td>\n",
       "      <td>0.045448</td>\n",
       "      <td>0.034323</td>\n",
       "      <td>5.213751e-04</td>\n",
       "      <td>0.001761</td>\n",
       "      <td>0.001948</td>\n",
       "      <td>0.001207</td>\n",
       "    </tr>\n",
       "  </tbody>\n",
       "</table>\n",
       "</div>"
      ],
      "text/plain": [
       "          A         B         C         D         E         F         G  \\\n",
       "0  0.589714  0.004225  0.014231  0.030204  0.227871  0.024916  0.008499   \n",
       "1  0.042894  0.000097  0.025909  0.012274  0.344777  0.064239  0.119464   \n",
       "2  0.215340  0.000001  0.011637  0.074561  0.119586  0.142983  0.071152   \n",
       "3  0.136859  0.000053  0.014832  0.011912  0.062806  0.104072  0.031091   \n",
       "4  0.658432  0.000003  0.005328  0.031513  0.096298  0.257332  0.045448   \n",
       "\n",
       "          H             I         W         X         Y  \n",
       "0  0.000271  9.294807e-08  0.220406  0.278997  0.047493  \n",
       "1  0.337260  2.617123e-01  0.000162  0.480610  0.001315  \n",
       "2  0.132069  7.900001e-01  0.000110  0.011605  0.000670  \n",
       "3  0.025584  4.921090e-03  0.000127  0.001090  0.002176  \n",
       "4  0.034323  5.213751e-04  0.001761  0.001948  0.001207  "
      ]
     },
     "metadata": {},
     "output_type": "display_data"
    }
   ],
   "source": [
    "predicted_classes = predictOvA(models, model_labels, x_test)"
   ]
  },
  {
   "cell_type": "code",
   "execution_count": 170,
   "metadata": {},
   "outputs": [
    {
     "name": "stdout",
     "output_type": "stream",
     "text": [
      "Accuracy of OvA classifier is 0.5290792373287343.\n",
      "Confusion matrix of OvA classifier: \n",
      " [[4065   10    2    0   30  101    0   11   50    0   11    6]\n",
      " [   0    5    0    0    0    0    0    0    0    0    0    0]\n",
      " [  69    4    0    0   10   12    0    0    8    0    0    0]\n",
      " [ 302    0    0    0   13   13    0   12   11    0    2    0]\n",
      " [ 835    2    0    0  114   58    0   17   21    0   47    1]\n",
      " [1813   10    2    0    3   92    0    3   33    0    2    4]\n",
      " [ 353    0    0    0    4   81    0    5    1    0    3    0]\n",
      " [ 320    0    0    0   30  106    0   43   19    0    1    1]\n",
      " [  52    0    0    1    1    6    0    4  742    0   15   11]\n",
      " [  35    0    0    0    9    0    0    0    0    0    1    0]\n",
      " [  72    0    0    0    9    1    0    6   52    0  366   16]\n",
      " [  43    0    0    0    1    0    0    0  100    0   28   95]]\n"
     ]
    }
   ],
   "source": [
    "from sklearn.metrics import accuracy_score\n",
    "from sklearn.metrics import confusion_matrix\n",
    "\n",
    "ova_accuracy = accuracy_score(y_test, predicted_classes)\n",
    "ova_confusion_matrix = confusion_matrix(y_test, predicted_classes)\n",
    "\n",
    "print(\"Accuracy of OvA classifier is {}.\".format(ova_accuracy))\n",
    "print(\"Confusion matrix of OvA classifier: \\n {}\".format(ova_confusion_matrix))"
   ]
  },
  {
   "cell_type": "markdown",
   "metadata": {},
   "source": [
    "---"
   ]
  },
  {
   "cell_type": "markdown",
   "metadata": {},
   "source": [
    "Question 3.1: Develop a method that trains a list of models based on the OvO stragety for multiclass classification using logistic regression. "
   ]
  },
  {
   "cell_type": "code",
   "execution_count": 171,
   "metadata": {},
   "outputs": [],
   "source": [
    "def trainOvO(x, y):\n",
    "    \"\"\"\n",
    "    TODO: Train the multiclass classifier using OvO strategy. \n",
    "    \"\"\"\n",
    "    labels = sorted(y.unique())\n",
    "    n_labels = len(labels)\n",
    "    n_models = int(len(labels) * (len(labels) - 1) / 2)\n",
    "    print(\"number of classes is {}\".format(n_labels))\n",
    "\n",
    "    models: List[Any] = [None] * n_models\n",
    "    model_labels: List[Any] = [None] * n_models \n",
    "    model_idx = 0\n",
    "    for i in range(n_labels):\n",
    "        for j in range(i+1, n_labels):\n",
    "            label_i = labels[i]\n",
    "            label_j = labels[j]\n",
    "            print(\"Train Logistic Regression model to distinguish {} and {}\".format(label_i, label_j))\n",
    "\n",
    "            # update the label according to OvA strategy\n",
    "            selected_rows = (y == label_i) | (y == label_j)\n",
    "            train_y = y[selected_rows].apply(lambda x: 1 if x == label_i else 0)\n",
    "            train_x = x[selected_rows]\n",
    "\n",
    "            # construct the logistic regression instance\n",
    "            lr = LogisticRegression(solver = 'liblinear')\n",
    "            lr.fit(train_x, train_y)\n",
    "            models[model_idx] = lr\n",
    "            model_labels[model_idx] = (label_i, label_j)\n",
    "            model_idx += 1\n",
    "        \n",
    "    return models, model_labels"
   ]
  },
  {
   "cell_type": "markdown",
   "metadata": {},
   "source": [
    "Question 3.2: Write a method that leverage the multiple models train for OvO, and outputs the majority class."
   ]
  },
  {
   "cell_type": "code",
   "execution_count": 172,
   "metadata": {},
   "outputs": [],
   "source": [
    "def predictOvO(models, labels, x):\n",
    "    \"\"\"\n",
    "    TODO: Make predictions on multiclass problems using the OvO strategy. \n",
    "    \"\"\"\n",
    "    if models == None:\n",
    "        sys.exit(\"The model has not been trained yet. Please call train() first. Exiting...\")\n",
    "\n",
    "    n_models = len(models)\n",
    "    predictions = pd.DataFrame(columns=labels)\n",
    "    for i in range(n_models):\n",
    "        label_i, label_j = labels[i]\n",
    "        model = models[i]\n",
    "        pred = model.predict(x)\n",
    "        pred = pd.Series(pred).apply(lambda x: label_i if x == 1 else label_j)\n",
    "        predictions[i] = pred\n",
    "\n",
    "    return predictions.mode(axis=1).iloc[:, 0].values"
   ]
  },
  {
   "cell_type": "markdown",
   "metadata": {},
   "source": [
    "Question 3.3: Train OvO model on the Avila dataset"
   ]
  },
  {
   "cell_type": "code",
   "execution_count": 173,
   "metadata": {},
   "outputs": [
    {
     "name": "stdout",
     "output_type": "stream",
     "text": [
      "number of classes is 12\n",
      "Train Logistic Regression model to distinguish A and B\n",
      "Train Logistic Regression model to distinguish A and C\n",
      "Train Logistic Regression model to distinguish A and D\n",
      "Train Logistic Regression model to distinguish A and E\n",
      "Train Logistic Regression model to distinguish A and F\n",
      "Train Logistic Regression model to distinguish A and G\n",
      "Train Logistic Regression model to distinguish A and H\n",
      "Train Logistic Regression model to distinguish A and I\n",
      "Train Logistic Regression model to distinguish A and W\n",
      "Train Logistic Regression model to distinguish A and X\n",
      "Train Logistic Regression model to distinguish A and Y\n",
      "Train Logistic Regression model to distinguish B and C\n",
      "Train Logistic Regression model to distinguish B and D\n",
      "Train Logistic Regression model to distinguish B and E\n",
      "Train Logistic Regression model to distinguish B and F\n",
      "Train Logistic Regression model to distinguish B and G\n",
      "Train Logistic Regression model to distinguish B and H\n",
      "Train Logistic Regression model to distinguish B and I\n",
      "Train Logistic Regression model to distinguish B and W\n",
      "Train Logistic Regression model to distinguish B and X\n",
      "Train Logistic Regression model to distinguish B and Y\n",
      "Train Logistic Regression model to distinguish C and D\n",
      "Train Logistic Regression model to distinguish C and E\n",
      "Train Logistic Regression model to distinguish C and F\n",
      "Train Logistic Regression model to distinguish C and G\n",
      "Train Logistic Regression model to distinguish C and H\n",
      "Train Logistic Regression model to distinguish C and I\n",
      "Train Logistic Regression model to distinguish C and W\n",
      "Train Logistic Regression model to distinguish C and X\n",
      "Train Logistic Regression model to distinguish C and Y\n",
      "Train Logistic Regression model to distinguish D and E\n",
      "Train Logistic Regression model to distinguish D and F\n",
      "Train Logistic Regression model to distinguish D and G\n",
      "Train Logistic Regression model to distinguish D and H\n",
      "Train Logistic Regression model to distinguish D and I\n",
      "Train Logistic Regression model to distinguish D and W\n",
      "Train Logistic Regression model to distinguish D and X\n",
      "Train Logistic Regression model to distinguish D and Y\n",
      "Train Logistic Regression model to distinguish E and F\n",
      "Train Logistic Regression model to distinguish E and G\n",
      "Train Logistic Regression model to distinguish E and H\n",
      "Train Logistic Regression model to distinguish E and I\n",
      "Train Logistic Regression model to distinguish E and W\n",
      "Train Logistic Regression model to distinguish E and X\n",
      "Train Logistic Regression model to distinguish E and Y\n",
      "Train Logistic Regression model to distinguish F and G\n",
      "Train Logistic Regression model to distinguish F and H\n",
      "Train Logistic Regression model to distinguish F and I\n",
      "Train Logistic Regression model to distinguish F and W\n",
      "Train Logistic Regression model to distinguish F and X\n",
      "Train Logistic Regression model to distinguish F and Y\n",
      "Train Logistic Regression model to distinguish G and H\n",
      "Train Logistic Regression model to distinguish G and I\n",
      "Train Logistic Regression model to distinguish G and W\n",
      "Train Logistic Regression model to distinguish G and X\n",
      "Train Logistic Regression model to distinguish G and Y\n",
      "Train Logistic Regression model to distinguish H and I\n",
      "Train Logistic Regression model to distinguish H and W\n",
      "Train Logistic Regression model to distinguish H and X\n",
      "Train Logistic Regression model to distinguish H and Y\n",
      "Train Logistic Regression model to distinguish I and W\n",
      "Train Logistic Regression model to distinguish I and X\n",
      "Train Logistic Regression model to distinguish I and Y\n",
      "Train Logistic Regression model to distinguish W and X\n",
      "Train Logistic Regression model to distinguish W and Y\n",
      "Train Logistic Regression model to distinguish X and Y\n"
     ]
    }
   ],
   "source": [
    "models, labels = trainOvO(x_train, y_train)"
   ]
  },
  {
   "cell_type": "markdown",
   "metadata": {},
   "source": [
    "Question 3.4: Predict and evalutate the results of your model"
   ]
  },
  {
   "cell_type": "code",
   "execution_count": 174,
   "metadata": {},
   "outputs": [
    {
     "data": {
      "text/plain": [
       "array(['W', 'I', 'I', ..., 'A', 'F', 'F'], dtype=object)"
      ]
     },
     "metadata": {},
     "output_type": "display_data"
    }
   ],
   "source": [
    "te_z_ovo = predictOvO(models, labels, x_test)\n",
    "\n",
    "display(te_z_ovo)"
   ]
  },
  {
   "cell_type": "code",
   "execution_count": 175,
   "metadata": {},
   "outputs": [
    {
     "name": "stdout",
     "output_type": "stream",
     "text": [
      "Accuracy of OvO classifier is 0.5489125227555811.\n",
      "Confusion matrix of OvO classifier: \n",
      " [[3903   10   27    2   54  122   14   13   67    0   72    2]\n",
      " [   0    5    0    0    0    0    0    0    0    0    0    0]\n",
      " [  55    4    0    0   20   10    0    4   10    0    0    0]\n",
      " [ 264    0    5    0   28    9    9    0    8    0   30    0]\n",
      " [ 603    2    0    0  225   49   45   33   24    0  109    5]\n",
      " [1633   10    2    6   12  235    2    9   34    0   15    4]\n",
      " [ 382    0    0    0    0   30   34    0    1    0    0    0]\n",
      " [ 259    0    0    0   36   53   63   93   13    0    2    1]\n",
      " [  44    0    1    0    1    9   14    3  722    1   19   18]\n",
      " [  32    0    0    0   11    0    0    0    0    2    0    0]\n",
      " [  49    0    0    0   34    2    2    1   48    3  367   16]\n",
      " [  24    0    0    0    5    1    1    0   38    0   55  143]]\n"
     ]
    }
   ],
   "source": [
    "\n",
    "ovo_accuracy = accuracy_score(y_test, te_z_ovo)\n",
    "ovo_confusion_matrix = confusion_matrix(y_test, te_z_ovo)\n",
    "\n",
    "\n",
    "print(\"Accuracy of OvO classifier is {}.\".format(ovo_accuracy))\n",
    "print(\"Confusion matrix of OvO classifier: \\n {}\".format(ovo_confusion_matrix))"
   ]
  },
  {
   "cell_type": "markdown",
   "metadata": {},
   "source": [
    "Question 4.1: [LogisticRegression](https://scikit-learn.org/stable/modules/generated/sklearn.linear_model.LogisticRegression.html) within sklearn supports two approaches for solving multi-class problems: 'ovr', 'multinomial'. Try out both approaches, and evaluate compare the performance agains what you developed in questions 2 and 3."
   ]
  },
  {
   "cell_type": "code",
   "execution_count": 176,
   "metadata": {},
   "outputs": [
    {
     "name": "stdout",
     "output_type": "stream",
     "text": [
      "Accuracy of OvO classifier is 0.5287917984095046.\n",
      "Confusion matrix of OvO classifier: \n",
      " [[4066   11    2    0   30   99    0   12   50    0   10    6]\n",
      " [   0    5    0    0    0    0    0    0    0    0    0    0]\n",
      " [  69    4    0    0   10   12    0    0    8    0    0    0]\n",
      " [ 302    0    0    0   13   13    0   12   11    0    2    0]\n",
      " [ 835    2    0    0  113   58    0   17   21    0   48    1]\n",
      " [1815   10    2    0    3   91    0    3   33    0    1    4]\n",
      " [ 353    0    0    0    4   81    0    5    1    0    3    0]\n",
      " [ 319    0    0    0   31  106    0   43   20    0    1    0]\n",
      " [  52    0    0    1    1    6    0    4  742    0   15   11]\n",
      " [  35    0    0    0    9    0    0    0    0    0    1    0]\n",
      " [  72    0    0    0    9    1    0    6   52    0  366   16]\n",
      " [  43    0    0    0    1    0    0    0  102    0   28   93]]\n"
     ]
    }
   ],
   "source": [
    "clf = LogisticRegression(solver='liblinear', multi_class='ovr').fit(x_train, y_train)\n",
    "y_ovr = clf.predict(x_test)\n",
    "\n",
    "ovr_accuracy = accuracy_score(y_test, y_ovr)\n",
    "ovr_confuction_matrix =  confusion_matrix(y_test, y_ovr)\n",
    "\n",
    "print(\"Accuracy of OvO classifier is {}.\".format(ovr_accuracy))\n",
    "print(\"Confusion matrix of OvO classifier: \\n {}\".format(ovr_confuction_matrix))"
   ]
  },
  {
   "cell_type": "code",
   "execution_count": 177,
   "metadata": {},
   "outputs": [
    {
     "name": "stdout",
     "output_type": "stream",
     "text": [
      "Accuracy of OvO classifier is 0.5421098016671457.\n",
      "Confusion matrix of OvO classifier: \n",
      " [[3797   10   26   13   57  153    0   21   87    0  115    7]\n",
      " [   0    5    0    0    0    0    0    0    0    0    0    0]\n",
      " [  55    4    1    0   16   12    0    6    9    0    0    0]\n",
      " [ 251    0    0    0   20   14    0   12   18    0   38    0]\n",
      " [ 577    2    0    0  275   62    0   30   30    0  112    7]\n",
      " [1623   10    4    1   17  219    0   20   48    0   15    5]\n",
      " [ 363    0    0    0   11   54    0   18    1    0    0    0]\n",
      " [ 271    0    0    0   51   62    0  114   19    0    2    1]\n",
      " [  27    0    0    1    2   14    0    7  740    0   25   16]\n",
      " [  31    0    0    0   12    0    0    0    0    2    0    0]\n",
      " [  36    0    0    0   24    4    0    2   40    9  384   23]\n",
      " [  24    0    0    0    5    1    0    0   69    0   47  121]]\n"
     ]
    }
   ],
   "source": [
    "#class = multinomial\n",
    "clf = LogisticRegression(solver='lbfgs', multi_class='multinomial').fit(x_train, y_train)\n",
    "y_multinomial = clf.predict(x_test)\n",
    "\n",
    "multinomial_accuracy = accuracy_score(y_test, y_multinomial)\n",
    "multinomial_confuction_matrix = confusion_matrix(y_test, y_multinomial)\n",
    "\n",
    "\n",
    "print(\"Accuracy of OvO classifier is {}.\".format(multinomial_accuracy))\n",
    "print(\"Confusion matrix of OvO classifier: \\n {}\".format(multinomial_confuction_matrix))"
   ]
  },
  {
   "cell_type": "markdown",
   "metadata": {},
   "source": [
    "# Interpretation of the results\n",
    "\n",
    "The results of both manually implemented methods and the ones provided by sklearn are very similar. Especially the accuracy score, which for both of the the methods is within 10^-3. The manual inspection of the confusion matrix also shows pretty significant similarity between the two methods.\n",
    "\n"
   ]
  },
  {
   "cell_type": "markdown",
   "metadata": {},
   "source": [
    "Question 4: Create a new text cell in your Notebook: Complete a 50-100 word summary (or short description of your thinking in applying this week's learning to the solution) of your experience in this assignment. Include: What was your incoming experience with this model, if any? what steps you took, what obstacles you encountered. how you link this exercise to real-world, machine learning problem-solving. (What steps were missing? What else do you need to learn?) This summary allows your instructor to know how you are doing and allot points for your effort in thinking and planning, and making connections to real-world work."
   ]
  },
  {
   "cell_type": "markdown",
   "metadata": {},
   "source": [
    "I have a pretty strong experience with Python, so implementation part was not very difficult for me. The hardest part was definitely understanding what is the expected output for each of the functions. I'm still no expert in Pandas and sklearn, so figuring out what is the expected output was a bit tricky at times.\n",
    "\n",
    "I generally don't have a lot of experience with multiclass classification in real life, other than the exercises in the first part of the course. It is interesting to see that the manual implementation of the method is very similar to the one provided by sklearn.\n",
    "\n",
    "I'm still confused about the data standarization. I performed the standarization, although I'm not sure what would be the benefit in this case."
   ]
  }
 ],
 "metadata": {
  "kernelspec": {
   "display_name": "Python 3",
   "language": "python",
   "name": "python3"
  },
  "language_info": {
   "codemirror_mode": {
    "name": "ipython",
    "version": 3
   },
   "file_extension": ".py",
   "mimetype": "text/x-python",
   "name": "python",
   "nbconvert_exporter": "python",
   "pygments_lexer": "ipython3",
   "version": "3.11.7"
  }
 },
 "nbformat": 4,
 "nbformat_minor": 2
}
